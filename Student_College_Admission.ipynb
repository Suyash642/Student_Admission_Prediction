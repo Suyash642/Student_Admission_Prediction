{
 "cells": [
  {
   "attachments": {},
   "cell_type": "markdown",
   "metadata": {},
   "source": [
    "# Student_Admission_Prediction\n",
    "In this notebook, we are predicting the chances or possibility of admission of student in an university based on different features like Serial No., GRE Score,\tTOEFL Score, University Rating, SOP, LOR, CGPA, Research and Chance of Admit by using Machine learning. "
   ]
  },
  {
   "cell_type": "markdown",
   "metadata": {},
   "source": [
    "## Importing required Libraries"
   ]
  },
  {
   "cell_type": "code",
   "execution_count": 117,
   "metadata": {},
   "outputs": [],
   "source": [
    "import pandas as pd\n",
    "import numpy as np\n",
    "import matplotlib.pyplot as plt\n",
    "import seaborn as sns\n",
    "from sklearn.preprocessing import StandardScaler\n",
    "from sklearn.model_selection import train_test_split\n",
    "from sklearn.ensemble import RandomForestRegressor\n",
    "from sklearn.linear_model import LinearRegression\n",
    "from sklearn.tree import DecisionTreeRegressor\n",
    "from sklearn import metrics\n",
    "from IPython.core.interactiveshell import InteractiveShell\n",
    "InteractiveShell.ast_node_interactivity = \"all\""
   ]
  },
  {
   "cell_type": "markdown",
   "metadata": {},
   "source": [
    "## Import dataset"
   ]
  },
  {
   "cell_type": "code",
   "execution_count": 4,
   "metadata": {},
   "outputs": [
    {
     "data": {
      "text/html": [
       "<div>\n",
       "<style scoped>\n",
       "    .dataframe tbody tr th:only-of-type {\n",
       "        vertical-align: middle;\n",
       "    }\n",
       "\n",
       "    .dataframe tbody tr th {\n",
       "        vertical-align: top;\n",
       "    }\n",
       "\n",
       "    .dataframe thead th {\n",
       "        text-align: right;\n",
       "    }\n",
       "</style>\n",
       "<table border=\"1\" class=\"dataframe\">\n",
       "  <thead>\n",
       "    <tr style=\"text-align: right;\">\n",
       "      <th></th>\n",
       "      <th>Serial No.</th>\n",
       "      <th>GRE Score</th>\n",
       "      <th>TOEFL Score</th>\n",
       "      <th>University Rating</th>\n",
       "      <th>SOP</th>\n",
       "      <th>LOR</th>\n",
       "      <th>CGPA</th>\n",
       "      <th>Research</th>\n",
       "      <th>Chance of Admit</th>\n",
       "    </tr>\n",
       "  </thead>\n",
       "  <tbody>\n",
       "    <tr>\n",
       "      <th>0</th>\n",
       "      <td>1</td>\n",
       "      <td>337</td>\n",
       "      <td>118</td>\n",
       "      <td>4</td>\n",
       "      <td>4.5</td>\n",
       "      <td>4.5</td>\n",
       "      <td>9.65</td>\n",
       "      <td>1</td>\n",
       "      <td>0.92</td>\n",
       "    </tr>\n",
       "    <tr>\n",
       "      <th>1</th>\n",
       "      <td>2</td>\n",
       "      <td>324</td>\n",
       "      <td>107</td>\n",
       "      <td>4</td>\n",
       "      <td>4.0</td>\n",
       "      <td>4.5</td>\n",
       "      <td>8.87</td>\n",
       "      <td>1</td>\n",
       "      <td>0.76</td>\n",
       "    </tr>\n",
       "    <tr>\n",
       "      <th>2</th>\n",
       "      <td>3</td>\n",
       "      <td>316</td>\n",
       "      <td>104</td>\n",
       "      <td>3</td>\n",
       "      <td>3.0</td>\n",
       "      <td>3.5</td>\n",
       "      <td>8.00</td>\n",
       "      <td>1</td>\n",
       "      <td>0.72</td>\n",
       "    </tr>\n",
       "    <tr>\n",
       "      <th>3</th>\n",
       "      <td>4</td>\n",
       "      <td>322</td>\n",
       "      <td>110</td>\n",
       "      <td>3</td>\n",
       "      <td>3.5</td>\n",
       "      <td>2.5</td>\n",
       "      <td>8.67</td>\n",
       "      <td>1</td>\n",
       "      <td>0.80</td>\n",
       "    </tr>\n",
       "    <tr>\n",
       "      <th>4</th>\n",
       "      <td>5</td>\n",
       "      <td>314</td>\n",
       "      <td>103</td>\n",
       "      <td>2</td>\n",
       "      <td>2.0</td>\n",
       "      <td>3.0</td>\n",
       "      <td>8.21</td>\n",
       "      <td>0</td>\n",
       "      <td>0.65</td>\n",
       "    </tr>\n",
       "    <tr>\n",
       "      <th>5</th>\n",
       "      <td>6</td>\n",
       "      <td>330</td>\n",
       "      <td>115</td>\n",
       "      <td>5</td>\n",
       "      <td>4.5</td>\n",
       "      <td>3.0</td>\n",
       "      <td>9.34</td>\n",
       "      <td>1</td>\n",
       "      <td>0.90</td>\n",
       "    </tr>\n",
       "    <tr>\n",
       "      <th>6</th>\n",
       "      <td>7</td>\n",
       "      <td>321</td>\n",
       "      <td>109</td>\n",
       "      <td>3</td>\n",
       "      <td>3.0</td>\n",
       "      <td>4.0</td>\n",
       "      <td>8.20</td>\n",
       "      <td>1</td>\n",
       "      <td>0.75</td>\n",
       "    </tr>\n",
       "    <tr>\n",
       "      <th>7</th>\n",
       "      <td>8</td>\n",
       "      <td>308</td>\n",
       "      <td>101</td>\n",
       "      <td>2</td>\n",
       "      <td>3.0</td>\n",
       "      <td>4.0</td>\n",
       "      <td>7.90</td>\n",
       "      <td>0</td>\n",
       "      <td>0.68</td>\n",
       "    </tr>\n",
       "    <tr>\n",
       "      <th>8</th>\n",
       "      <td>9</td>\n",
       "      <td>302</td>\n",
       "      <td>102</td>\n",
       "      <td>1</td>\n",
       "      <td>2.0</td>\n",
       "      <td>1.5</td>\n",
       "      <td>8.00</td>\n",
       "      <td>0</td>\n",
       "      <td>0.50</td>\n",
       "    </tr>\n",
       "    <tr>\n",
       "      <th>9</th>\n",
       "      <td>10</td>\n",
       "      <td>323</td>\n",
       "      <td>108</td>\n",
       "      <td>3</td>\n",
       "      <td>3.5</td>\n",
       "      <td>3.0</td>\n",
       "      <td>8.60</td>\n",
       "      <td>0</td>\n",
       "      <td>0.45</td>\n",
       "    </tr>\n",
       "  </tbody>\n",
       "</table>\n",
       "</div>"
      ],
      "text/plain": [
       "   Serial No.  GRE Score  TOEFL Score  University Rating  SOP  LOR   CGPA  \\\n",
       "0           1        337          118                  4  4.5   4.5  9.65   \n",
       "1           2        324          107                  4  4.0   4.5  8.87   \n",
       "2           3        316          104                  3  3.0   3.5  8.00   \n",
       "3           4        322          110                  3  3.5   2.5  8.67   \n",
       "4           5        314          103                  2  2.0   3.0  8.21   \n",
       "5           6        330          115                  5  4.5   3.0  9.34   \n",
       "6           7        321          109                  3  3.0   4.0  8.20   \n",
       "7           8        308          101                  2  3.0   4.0  7.90   \n",
       "8           9        302          102                  1  2.0   1.5  8.00   \n",
       "9          10        323          108                  3  3.5   3.0  8.60   \n",
       "\n",
       "   Research  Chance of Admit   \n",
       "0         1              0.92  \n",
       "1         1              0.76  \n",
       "2         1              0.72  \n",
       "3         1              0.80  \n",
       "4         0              0.65  \n",
       "5         1              0.90  \n",
       "6         1              0.75  \n",
       "7         0              0.68  \n",
       "8         0              0.50  \n",
       "9         0              0.45  "
      ]
     },
     "execution_count": 4,
     "metadata": {},
     "output_type": "execute_result"
    }
   ],
   "source": [
    "df = pd.read_csv('Admission_Predict.csv')\n",
    "df.head(10)"
   ]
  },
  {
   "cell_type": "code",
   "execution_count": 5,
   "metadata": {},
   "outputs": [
    {
     "data": {
      "text/html": [
       "<div>\n",
       "<style scoped>\n",
       "    .dataframe tbody tr th:only-of-type {\n",
       "        vertical-align: middle;\n",
       "    }\n",
       "\n",
       "    .dataframe tbody tr th {\n",
       "        vertical-align: top;\n",
       "    }\n",
       "\n",
       "    .dataframe thead th {\n",
       "        text-align: right;\n",
       "    }\n",
       "</style>\n",
       "<table border=\"1\" class=\"dataframe\">\n",
       "  <thead>\n",
       "    <tr style=\"text-align: right;\">\n",
       "      <th></th>\n",
       "      <th>Serial No.</th>\n",
       "      <th>GRE Score</th>\n",
       "      <th>TOEFL Score</th>\n",
       "      <th>University Rating</th>\n",
       "      <th>SOP</th>\n",
       "      <th>LOR</th>\n",
       "      <th>CGPA</th>\n",
       "      <th>Research</th>\n",
       "      <th>Chance of Admit</th>\n",
       "    </tr>\n",
       "  </thead>\n",
       "  <tbody>\n",
       "    <tr>\n",
       "      <th>count</th>\n",
       "      <td>400.000000</td>\n",
       "      <td>400.000000</td>\n",
       "      <td>400.000000</td>\n",
       "      <td>400.000000</td>\n",
       "      <td>400.000000</td>\n",
       "      <td>400.000000</td>\n",
       "      <td>400.000000</td>\n",
       "      <td>400.000000</td>\n",
       "      <td>400.000000</td>\n",
       "    </tr>\n",
       "    <tr>\n",
       "      <th>mean</th>\n",
       "      <td>200.500000</td>\n",
       "      <td>316.807500</td>\n",
       "      <td>107.410000</td>\n",
       "      <td>3.087500</td>\n",
       "      <td>3.400000</td>\n",
       "      <td>3.452500</td>\n",
       "      <td>8.598925</td>\n",
       "      <td>0.547500</td>\n",
       "      <td>0.724350</td>\n",
       "    </tr>\n",
       "    <tr>\n",
       "      <th>std</th>\n",
       "      <td>115.614301</td>\n",
       "      <td>11.473646</td>\n",
       "      <td>6.069514</td>\n",
       "      <td>1.143728</td>\n",
       "      <td>1.006869</td>\n",
       "      <td>0.898478</td>\n",
       "      <td>0.596317</td>\n",
       "      <td>0.498362</td>\n",
       "      <td>0.142609</td>\n",
       "    </tr>\n",
       "    <tr>\n",
       "      <th>min</th>\n",
       "      <td>1.000000</td>\n",
       "      <td>290.000000</td>\n",
       "      <td>92.000000</td>\n",
       "      <td>1.000000</td>\n",
       "      <td>1.000000</td>\n",
       "      <td>1.000000</td>\n",
       "      <td>6.800000</td>\n",
       "      <td>0.000000</td>\n",
       "      <td>0.340000</td>\n",
       "    </tr>\n",
       "    <tr>\n",
       "      <th>25%</th>\n",
       "      <td>100.750000</td>\n",
       "      <td>308.000000</td>\n",
       "      <td>103.000000</td>\n",
       "      <td>2.000000</td>\n",
       "      <td>2.500000</td>\n",
       "      <td>3.000000</td>\n",
       "      <td>8.170000</td>\n",
       "      <td>0.000000</td>\n",
       "      <td>0.640000</td>\n",
       "    </tr>\n",
       "    <tr>\n",
       "      <th>50%</th>\n",
       "      <td>200.500000</td>\n",
       "      <td>317.000000</td>\n",
       "      <td>107.000000</td>\n",
       "      <td>3.000000</td>\n",
       "      <td>3.500000</td>\n",
       "      <td>3.500000</td>\n",
       "      <td>8.610000</td>\n",
       "      <td>1.000000</td>\n",
       "      <td>0.730000</td>\n",
       "    </tr>\n",
       "    <tr>\n",
       "      <th>75%</th>\n",
       "      <td>300.250000</td>\n",
       "      <td>325.000000</td>\n",
       "      <td>112.000000</td>\n",
       "      <td>4.000000</td>\n",
       "      <td>4.000000</td>\n",
       "      <td>4.000000</td>\n",
       "      <td>9.062500</td>\n",
       "      <td>1.000000</td>\n",
       "      <td>0.830000</td>\n",
       "    </tr>\n",
       "    <tr>\n",
       "      <th>max</th>\n",
       "      <td>400.000000</td>\n",
       "      <td>340.000000</td>\n",
       "      <td>120.000000</td>\n",
       "      <td>5.000000</td>\n",
       "      <td>5.000000</td>\n",
       "      <td>5.000000</td>\n",
       "      <td>9.920000</td>\n",
       "      <td>1.000000</td>\n",
       "      <td>0.970000</td>\n",
       "    </tr>\n",
       "  </tbody>\n",
       "</table>\n",
       "</div>"
      ],
      "text/plain": [
       "       Serial No.   GRE Score  TOEFL Score  University Rating         SOP  \\\n",
       "count  400.000000  400.000000   400.000000         400.000000  400.000000   \n",
       "mean   200.500000  316.807500   107.410000           3.087500    3.400000   \n",
       "std    115.614301   11.473646     6.069514           1.143728    1.006869   \n",
       "min      1.000000  290.000000    92.000000           1.000000    1.000000   \n",
       "25%    100.750000  308.000000   103.000000           2.000000    2.500000   \n",
       "50%    200.500000  317.000000   107.000000           3.000000    3.500000   \n",
       "75%    300.250000  325.000000   112.000000           4.000000    4.000000   \n",
       "max    400.000000  340.000000   120.000000           5.000000    5.000000   \n",
       "\n",
       "             LOR         CGPA    Research  Chance of Admit   \n",
       "count  400.000000  400.000000  400.000000        400.000000  \n",
       "mean     3.452500    8.598925    0.547500          0.724350  \n",
       "std      0.898478    0.596317    0.498362          0.142609  \n",
       "min      1.000000    6.800000    0.000000          0.340000  \n",
       "25%      3.000000    8.170000    0.000000          0.640000  \n",
       "50%      3.500000    8.610000    1.000000          0.730000  \n",
       "75%      4.000000    9.062500    1.000000          0.830000  \n",
       "max      5.000000    9.920000    1.000000          0.970000  "
      ]
     },
     "execution_count": 5,
     "metadata": {},
     "output_type": "execute_result"
    }
   ],
   "source": [
    "df.describe()"
   ]
  },
  {
   "cell_type": "code",
   "execution_count": 7,
   "metadata": {},
   "outputs": [
    {
     "data": {
      "text/plain": [
       "(400, 9)"
      ]
     },
     "execution_count": 7,
     "metadata": {},
     "output_type": "execute_result"
    }
   ],
   "source": [
    "df.shape"
   ]
  },
  {
   "cell_type": "code",
   "execution_count": 8,
   "metadata": {},
   "outputs": [
    {
     "data": {
      "text/plain": [
       "Index(['Serial No.', 'GRE Score', 'TOEFL Score', 'University Rating', 'SOP',\n",
       "       'LOR ', 'CGPA', 'Research', 'Chance of Admit '],\n",
       "      dtype='object')"
      ]
     },
     "execution_count": 8,
     "metadata": {},
     "output_type": "execute_result"
    }
   ],
   "source": [
    "df.columns"
   ]
  },
  {
   "cell_type": "markdown",
   "metadata": {},
   "source": [
    "## Rename Columns\n",
    "There are some unwanted spaces in the columns names as above, so let's rename the columns"
   ]
  },
  {
   "cell_type": "code",
   "execution_count": 13,
   "metadata": {},
   "outputs": [],
   "source": [
    "df.rename(columns = {'Serial No.': 'Serial_No.', 'GRE Score': 'GRE_Score', 'TOEFL Score':'TOEFL_Score', 'University Rating':'University_Rating','LOR ':'LOR', 'Chance of Admit ':'Chance_of_Admit'}, inplace = True)\n",
    "    "
   ]
  },
  {
   "cell_type": "code",
   "execution_count": 14,
   "metadata": {},
   "outputs": [
    {
     "data": {
      "text/plain": [
       "Index(['Serial_No.', 'GRE_Score', 'TOEFL_Score', 'University_Rating', 'SOP',\n",
       "       'LOR', 'CGPA', 'Research', 'Chance_of_Admit'],\n",
       "      dtype='object')"
      ]
     },
     "execution_count": 14,
     "metadata": {},
     "output_type": "execute_result"
    }
   ],
   "source": [
    "df.columns"
   ]
  },
  {
   "cell_type": "markdown",
   "metadata": {},
   "source": [
    "#### Removing serial no. becauese it seems like a index for student\n"
   ]
  },
  {
   "cell_type": "code",
   "execution_count": null,
   "metadata": {},
   "outputs": [],
   "source": [
    "df.drop(['Serial_No.'], axis =1, inplace = True)"
   ]
  },
  {
   "cell_type": "code",
   "execution_count": 19,
   "metadata": {},
   "outputs": [
    {
     "data": {
      "text/plain": [
       "Index(['GRE_Score', 'TOEFL_Score', 'University_Rating', 'SOP', 'LOR', 'CGPA',\n",
       "       'Research', 'Chance_of_Admit'],\n",
       "      dtype='object')"
      ]
     },
     "execution_count": 19,
     "metadata": {},
     "output_type": "execute_result"
    }
   ],
   "source": [
    "df.columns"
   ]
  },
  {
   "cell_type": "code",
   "execution_count": 21,
   "metadata": {},
   "outputs": [
    {
     "data": {
      "text/html": [
       "<div>\n",
       "<style scoped>\n",
       "    .dataframe tbody tr th:only-of-type {\n",
       "        vertical-align: middle;\n",
       "    }\n",
       "\n",
       "    .dataframe tbody tr th {\n",
       "        vertical-align: top;\n",
       "    }\n",
       "\n",
       "    .dataframe thead th {\n",
       "        text-align: right;\n",
       "    }\n",
       "</style>\n",
       "<table border=\"1\" class=\"dataframe\">\n",
       "  <thead>\n",
       "    <tr style=\"text-align: right;\">\n",
       "      <th></th>\n",
       "      <th>GRE_Score</th>\n",
       "      <th>TOEFL_Score</th>\n",
       "      <th>University_Rating</th>\n",
       "      <th>SOP</th>\n",
       "      <th>LOR</th>\n",
       "      <th>CGPA</th>\n",
       "      <th>Research</th>\n",
       "      <th>Chance_of_Admit</th>\n",
       "    </tr>\n",
       "  </thead>\n",
       "  <tbody>\n",
       "    <tr>\n",
       "      <th>0</th>\n",
       "      <td>337</td>\n",
       "      <td>118</td>\n",
       "      <td>4</td>\n",
       "      <td>4.5</td>\n",
       "      <td>4.5</td>\n",
       "      <td>9.65</td>\n",
       "      <td>1</td>\n",
       "      <td>0.92</td>\n",
       "    </tr>\n",
       "    <tr>\n",
       "      <th>1</th>\n",
       "      <td>324</td>\n",
       "      <td>107</td>\n",
       "      <td>4</td>\n",
       "      <td>4.0</td>\n",
       "      <td>4.5</td>\n",
       "      <td>8.87</td>\n",
       "      <td>1</td>\n",
       "      <td>0.76</td>\n",
       "    </tr>\n",
       "    <tr>\n",
       "      <th>2</th>\n",
       "      <td>316</td>\n",
       "      <td>104</td>\n",
       "      <td>3</td>\n",
       "      <td>3.0</td>\n",
       "      <td>3.5</td>\n",
       "      <td>8.00</td>\n",
       "      <td>1</td>\n",
       "      <td>0.72</td>\n",
       "    </tr>\n",
       "    <tr>\n",
       "      <th>3</th>\n",
       "      <td>322</td>\n",
       "      <td>110</td>\n",
       "      <td>3</td>\n",
       "      <td>3.5</td>\n",
       "      <td>2.5</td>\n",
       "      <td>8.67</td>\n",
       "      <td>1</td>\n",
       "      <td>0.80</td>\n",
       "    </tr>\n",
       "    <tr>\n",
       "      <th>4</th>\n",
       "      <td>314</td>\n",
       "      <td>103</td>\n",
       "      <td>2</td>\n",
       "      <td>2.0</td>\n",
       "      <td>3.0</td>\n",
       "      <td>8.21</td>\n",
       "      <td>0</td>\n",
       "      <td>0.65</td>\n",
       "    </tr>\n",
       "  </tbody>\n",
       "</table>\n",
       "</div>"
      ],
      "text/plain": [
       "   GRE_Score  TOEFL_Score  University_Rating  SOP  LOR  CGPA  Research  \\\n",
       "0        337          118                  4  4.5  4.5  9.65         1   \n",
       "1        324          107                  4  4.0  4.5  8.87         1   \n",
       "2        316          104                  3  3.0  3.5  8.00         1   \n",
       "3        322          110                  3  3.5  2.5  8.67         1   \n",
       "4        314          103                  2  2.0  3.0  8.21         0   \n",
       "\n",
       "   Chance_of_Admit  \n",
       "0             0.92  \n",
       "1             0.76  \n",
       "2             0.72  \n",
       "3             0.80  \n",
       "4             0.65  "
      ]
     },
     "execution_count": 21,
     "metadata": {},
     "output_type": "execute_result"
    }
   ],
   "source": [
    "df.head()"
   ]
  },
  {
   "cell_type": "code",
   "execution_count": 41,
   "metadata": {},
   "outputs": [
    {
     "data": {
      "text/plain": [
       "0      100\n",
       "1      100\n",
       "2      100\n",
       "3      100\n",
       "4      100\n",
       "      ... \n",
       "395    100\n",
       "396    100\n",
       "397    100\n",
       "398    100\n",
       "399    100\n",
       "Name: 100_, Length: 400, dtype: int64"
      ]
     },
     "execution_count": 41,
     "metadata": {},
     "output_type": "execute_result"
    }
   ],
   "source": [
    "df['100_']"
   ]
  },
  {
   "cell_type": "code",
   "execution_count": 43,
   "metadata": {},
   "outputs": [],
   "source": [
    "df['Chance_of_Admit'] /= 100"
   ]
  },
  {
   "cell_type": "code",
   "execution_count": 45,
   "metadata": {},
   "outputs": [],
   "source": [
    "df['Chance_of_Admit']/= [i for i in range(400)]"
   ]
  },
  {
   "cell_type": "code",
   "execution_count": 51,
   "metadata": {
    "collapsed": true
   },
   "outputs": [
    {
     "name": "stderr",
     "output_type": "stream",
     "text": [
      "<ipython-input-51-8dbef6ad035f>:1: SettingWithCopyWarning: \n",
      "A value is trying to be set on a copy of a slice from a DataFrame\n",
      "\n",
      "See the caveats in the documentation: https://pandas.pydata.org/pandas-docs/stable/user_guide/indexing.html#returning-a-view-versus-a-copy\n",
      "  df['Chance_of_Admit'][0] = 920000.0\n"
     ]
    }
   ],
   "source": [
    "df['Chance_of_Admit'][0] = 920000.0"
   ]
  },
  {
   "cell_type": "code",
   "execution_count": 52,
   "metadata": {},
   "outputs": [],
   "source": [
    "df['Chance_of_Admit'] /= 100"
   ]
  },
  {
   "cell_type": "code",
   "execution_count": 54,
   "metadata": {},
   "outputs": [],
   "source": [
    "df['Chance_of_Admit'] /= 100"
   ]
  },
  {
   "cell_type": "code",
   "execution_count": 55,
   "metadata": {},
   "outputs": [
    {
     "data": {
      "text/html": [
       "<div>\n",
       "<style scoped>\n",
       "    .dataframe tbody tr th:only-of-type {\n",
       "        vertical-align: middle;\n",
       "    }\n",
       "\n",
       "    .dataframe tbody tr th {\n",
       "        vertical-align: top;\n",
       "    }\n",
       "\n",
       "    .dataframe thead th {\n",
       "        text-align: right;\n",
       "    }\n",
       "</style>\n",
       "<table border=\"1\" class=\"dataframe\">\n",
       "  <thead>\n",
       "    <tr style=\"text-align: right;\">\n",
       "      <th></th>\n",
       "      <th>GRE_Score</th>\n",
       "      <th>TOEFL_Score</th>\n",
       "      <th>University_Rating</th>\n",
       "      <th>SOP</th>\n",
       "      <th>LOR</th>\n",
       "      <th>CGPA</th>\n",
       "      <th>Research</th>\n",
       "      <th>Chance_of_Admit</th>\n",
       "      <th>100_</th>\n",
       "    </tr>\n",
       "  </thead>\n",
       "  <tbody>\n",
       "    <tr>\n",
       "      <th>0</th>\n",
       "      <td>337</td>\n",
       "      <td>118</td>\n",
       "      <td>4</td>\n",
       "      <td>4.5</td>\n",
       "      <td>4.5</td>\n",
       "      <td>9.65</td>\n",
       "      <td>1</td>\n",
       "      <td>92.0</td>\n",
       "      <td>100</td>\n",
       "    </tr>\n",
       "    <tr>\n",
       "      <th>1</th>\n",
       "      <td>324</td>\n",
       "      <td>107</td>\n",
       "      <td>4</td>\n",
       "      <td>4.0</td>\n",
       "      <td>4.5</td>\n",
       "      <td>8.87</td>\n",
       "      <td>1</td>\n",
       "      <td>76.0</td>\n",
       "      <td>100</td>\n",
       "    </tr>\n",
       "    <tr>\n",
       "      <th>2</th>\n",
       "      <td>316</td>\n",
       "      <td>104</td>\n",
       "      <td>3</td>\n",
       "      <td>3.0</td>\n",
       "      <td>3.5</td>\n",
       "      <td>8.00</td>\n",
       "      <td>1</td>\n",
       "      <td>72.0</td>\n",
       "      <td>100</td>\n",
       "    </tr>\n",
       "    <tr>\n",
       "      <th>3</th>\n",
       "      <td>322</td>\n",
       "      <td>110</td>\n",
       "      <td>3</td>\n",
       "      <td>3.5</td>\n",
       "      <td>2.5</td>\n",
       "      <td>8.67</td>\n",
       "      <td>1</td>\n",
       "      <td>80.0</td>\n",
       "      <td>100</td>\n",
       "    </tr>\n",
       "    <tr>\n",
       "      <th>4</th>\n",
       "      <td>314</td>\n",
       "      <td>103</td>\n",
       "      <td>2</td>\n",
       "      <td>2.0</td>\n",
       "      <td>3.0</td>\n",
       "      <td>8.21</td>\n",
       "      <td>0</td>\n",
       "      <td>65.0</td>\n",
       "      <td>100</td>\n",
       "    </tr>\n",
       "    <tr>\n",
       "      <th>...</th>\n",
       "      <td>...</td>\n",
       "      <td>...</td>\n",
       "      <td>...</td>\n",
       "      <td>...</td>\n",
       "      <td>...</td>\n",
       "      <td>...</td>\n",
       "      <td>...</td>\n",
       "      <td>...</td>\n",
       "      <td>...</td>\n",
       "    </tr>\n",
       "    <tr>\n",
       "      <th>395</th>\n",
       "      <td>324</td>\n",
       "      <td>110</td>\n",
       "      <td>3</td>\n",
       "      <td>3.5</td>\n",
       "      <td>3.5</td>\n",
       "      <td>9.04</td>\n",
       "      <td>1</td>\n",
       "      <td>82.0</td>\n",
       "      <td>100</td>\n",
       "    </tr>\n",
       "    <tr>\n",
       "      <th>396</th>\n",
       "      <td>325</td>\n",
       "      <td>107</td>\n",
       "      <td>3</td>\n",
       "      <td>3.0</td>\n",
       "      <td>3.5</td>\n",
       "      <td>9.11</td>\n",
       "      <td>1</td>\n",
       "      <td>84.0</td>\n",
       "      <td>100</td>\n",
       "    </tr>\n",
       "    <tr>\n",
       "      <th>397</th>\n",
       "      <td>330</td>\n",
       "      <td>116</td>\n",
       "      <td>4</td>\n",
       "      <td>5.0</td>\n",
       "      <td>4.5</td>\n",
       "      <td>9.45</td>\n",
       "      <td>1</td>\n",
       "      <td>91.0</td>\n",
       "      <td>100</td>\n",
       "    </tr>\n",
       "    <tr>\n",
       "      <th>398</th>\n",
       "      <td>312</td>\n",
       "      <td>103</td>\n",
       "      <td>3</td>\n",
       "      <td>3.5</td>\n",
       "      <td>4.0</td>\n",
       "      <td>8.78</td>\n",
       "      <td>0</td>\n",
       "      <td>67.0</td>\n",
       "      <td>100</td>\n",
       "    </tr>\n",
       "    <tr>\n",
       "      <th>399</th>\n",
       "      <td>333</td>\n",
       "      <td>117</td>\n",
       "      <td>4</td>\n",
       "      <td>5.0</td>\n",
       "      <td>4.0</td>\n",
       "      <td>9.66</td>\n",
       "      <td>1</td>\n",
       "      <td>95.0</td>\n",
       "      <td>100</td>\n",
       "    </tr>\n",
       "  </tbody>\n",
       "</table>\n",
       "<p>400 rows × 9 columns</p>\n",
       "</div>"
      ],
      "text/plain": [
       "     GRE_Score  TOEFL_Score  University_Rating  SOP  LOR  CGPA  Research  \\\n",
       "0          337          118                  4  4.5  4.5  9.65         1   \n",
       "1          324          107                  4  4.0  4.5  8.87         1   \n",
       "2          316          104                  3  3.0  3.5  8.00         1   \n",
       "3          322          110                  3  3.5  2.5  8.67         1   \n",
       "4          314          103                  2  2.0  3.0  8.21         0   \n",
       "..         ...          ...                ...  ...  ...   ...       ...   \n",
       "395        324          110                  3  3.5  3.5  9.04         1   \n",
       "396        325          107                  3  3.0  3.5  9.11         1   \n",
       "397        330          116                  4  5.0  4.5  9.45         1   \n",
       "398        312          103                  3  3.5  4.0  8.78         0   \n",
       "399        333          117                  4  5.0  4.0  9.66         1   \n",
       "\n",
       "     Chance_of_Admit  100_  \n",
       "0               92.0   100  \n",
       "1               76.0   100  \n",
       "2               72.0   100  \n",
       "3               80.0   100  \n",
       "4               65.0   100  \n",
       "..               ...   ...  \n",
       "395             82.0   100  \n",
       "396             84.0   100  \n",
       "397             91.0   100  \n",
       "398             67.0   100  \n",
       "399             95.0   100  \n",
       "\n",
       "[400 rows x 9 columns]"
      ]
     },
     "execution_count": 55,
     "metadata": {},
     "output_type": "execute_result"
    }
   ],
   "source": [
    "df"
   ]
  },
  {
   "cell_type": "code",
   "execution_count": 56,
   "metadata": {},
   "outputs": [
    {
     "data": {
      "text/html": [
       "<div>\n",
       "<style scoped>\n",
       "    .dataframe tbody tr th:only-of-type {\n",
       "        vertical-align: middle;\n",
       "    }\n",
       "\n",
       "    .dataframe tbody tr th {\n",
       "        vertical-align: top;\n",
       "    }\n",
       "\n",
       "    .dataframe thead th {\n",
       "        text-align: right;\n",
       "    }\n",
       "</style>\n",
       "<table border=\"1\" class=\"dataframe\">\n",
       "  <thead>\n",
       "    <tr style=\"text-align: right;\">\n",
       "      <th></th>\n",
       "      <th>GRE_Score</th>\n",
       "      <th>TOEFL_Score</th>\n",
       "      <th>University_Rating</th>\n",
       "      <th>SOP</th>\n",
       "      <th>LOR</th>\n",
       "      <th>CGPA</th>\n",
       "      <th>Research</th>\n",
       "      <th>Chance_of_Admit</th>\n",
       "    </tr>\n",
       "  </thead>\n",
       "  <tbody>\n",
       "    <tr>\n",
       "      <th>0</th>\n",
       "      <td>337</td>\n",
       "      <td>118</td>\n",
       "      <td>4</td>\n",
       "      <td>4.5</td>\n",
       "      <td>4.5</td>\n",
       "      <td>9.65</td>\n",
       "      <td>1</td>\n",
       "      <td>92.0</td>\n",
       "    </tr>\n",
       "    <tr>\n",
       "      <th>1</th>\n",
       "      <td>324</td>\n",
       "      <td>107</td>\n",
       "      <td>4</td>\n",
       "      <td>4.0</td>\n",
       "      <td>4.5</td>\n",
       "      <td>8.87</td>\n",
       "      <td>1</td>\n",
       "      <td>76.0</td>\n",
       "    </tr>\n",
       "    <tr>\n",
       "      <th>2</th>\n",
       "      <td>316</td>\n",
       "      <td>104</td>\n",
       "      <td>3</td>\n",
       "      <td>3.0</td>\n",
       "      <td>3.5</td>\n",
       "      <td>8.00</td>\n",
       "      <td>1</td>\n",
       "      <td>72.0</td>\n",
       "    </tr>\n",
       "    <tr>\n",
       "      <th>3</th>\n",
       "      <td>322</td>\n",
       "      <td>110</td>\n",
       "      <td>3</td>\n",
       "      <td>3.5</td>\n",
       "      <td>2.5</td>\n",
       "      <td>8.67</td>\n",
       "      <td>1</td>\n",
       "      <td>80.0</td>\n",
       "    </tr>\n",
       "    <tr>\n",
       "      <th>4</th>\n",
       "      <td>314</td>\n",
       "      <td>103</td>\n",
       "      <td>2</td>\n",
       "      <td>2.0</td>\n",
       "      <td>3.0</td>\n",
       "      <td>8.21</td>\n",
       "      <td>0</td>\n",
       "      <td>65.0</td>\n",
       "    </tr>\n",
       "    <tr>\n",
       "      <th>...</th>\n",
       "      <td>...</td>\n",
       "      <td>...</td>\n",
       "      <td>...</td>\n",
       "      <td>...</td>\n",
       "      <td>...</td>\n",
       "      <td>...</td>\n",
       "      <td>...</td>\n",
       "      <td>...</td>\n",
       "    </tr>\n",
       "    <tr>\n",
       "      <th>395</th>\n",
       "      <td>324</td>\n",
       "      <td>110</td>\n",
       "      <td>3</td>\n",
       "      <td>3.5</td>\n",
       "      <td>3.5</td>\n",
       "      <td>9.04</td>\n",
       "      <td>1</td>\n",
       "      <td>82.0</td>\n",
       "    </tr>\n",
       "    <tr>\n",
       "      <th>396</th>\n",
       "      <td>325</td>\n",
       "      <td>107</td>\n",
       "      <td>3</td>\n",
       "      <td>3.0</td>\n",
       "      <td>3.5</td>\n",
       "      <td>9.11</td>\n",
       "      <td>1</td>\n",
       "      <td>84.0</td>\n",
       "    </tr>\n",
       "    <tr>\n",
       "      <th>397</th>\n",
       "      <td>330</td>\n",
       "      <td>116</td>\n",
       "      <td>4</td>\n",
       "      <td>5.0</td>\n",
       "      <td>4.5</td>\n",
       "      <td>9.45</td>\n",
       "      <td>1</td>\n",
       "      <td>91.0</td>\n",
       "    </tr>\n",
       "    <tr>\n",
       "      <th>398</th>\n",
       "      <td>312</td>\n",
       "      <td>103</td>\n",
       "      <td>3</td>\n",
       "      <td>3.5</td>\n",
       "      <td>4.0</td>\n",
       "      <td>8.78</td>\n",
       "      <td>0</td>\n",
       "      <td>67.0</td>\n",
       "    </tr>\n",
       "    <tr>\n",
       "      <th>399</th>\n",
       "      <td>333</td>\n",
       "      <td>117</td>\n",
       "      <td>4</td>\n",
       "      <td>5.0</td>\n",
       "      <td>4.0</td>\n",
       "      <td>9.66</td>\n",
       "      <td>1</td>\n",
       "      <td>95.0</td>\n",
       "    </tr>\n",
       "  </tbody>\n",
       "</table>\n",
       "<p>400 rows × 8 columns</p>\n",
       "</div>"
      ],
      "text/plain": [
       "     GRE_Score  TOEFL_Score  University_Rating  SOP  LOR  CGPA  Research  \\\n",
       "0          337          118                  4  4.5  4.5  9.65         1   \n",
       "1          324          107                  4  4.0  4.5  8.87         1   \n",
       "2          316          104                  3  3.0  3.5  8.00         1   \n",
       "3          322          110                  3  3.5  2.5  8.67         1   \n",
       "4          314          103                  2  2.0  3.0  8.21         0   \n",
       "..         ...          ...                ...  ...  ...   ...       ...   \n",
       "395        324          110                  3  3.5  3.5  9.04         1   \n",
       "396        325          107                  3  3.0  3.5  9.11         1   \n",
       "397        330          116                  4  5.0  4.5  9.45         1   \n",
       "398        312          103                  3  3.5  4.0  8.78         0   \n",
       "399        333          117                  4  5.0  4.0  9.66         1   \n",
       "\n",
       "     Chance_of_Admit  \n",
       "0               92.0  \n",
       "1               76.0  \n",
       "2               72.0  \n",
       "3               80.0  \n",
       "4               65.0  \n",
       "..               ...  \n",
       "395             82.0  \n",
       "396             84.0  \n",
       "397             91.0  \n",
       "398             67.0  \n",
       "399             95.0  \n",
       "\n",
       "[400 rows x 8 columns]"
      ]
     },
     "execution_count": 56,
     "metadata": {},
     "output_type": "execute_result"
    }
   ],
   "source": [
    "#dropping 100_ col \n",
    "df.drop(['100_'], axis = 1, inplace=True)\n",
    "df"
   ]
  },
  {
   "cell_type": "markdown",
   "metadata": {},
   "source": [
    "## Final Dataset"
   ]
  },
  {
   "cell_type": "code",
   "execution_count": 57,
   "metadata": {},
   "outputs": [
    {
     "data": {
      "text/html": [
       "<div>\n",
       "<style scoped>\n",
       "    .dataframe tbody tr th:only-of-type {\n",
       "        vertical-align: middle;\n",
       "    }\n",
       "\n",
       "    .dataframe tbody tr th {\n",
       "        vertical-align: top;\n",
       "    }\n",
       "\n",
       "    .dataframe thead th {\n",
       "        text-align: right;\n",
       "    }\n",
       "</style>\n",
       "<table border=\"1\" class=\"dataframe\">\n",
       "  <thead>\n",
       "    <tr style=\"text-align: right;\">\n",
       "      <th></th>\n",
       "      <th>GRE_Score</th>\n",
       "      <th>TOEFL_Score</th>\n",
       "      <th>University_Rating</th>\n",
       "      <th>SOP</th>\n",
       "      <th>LOR</th>\n",
       "      <th>CGPA</th>\n",
       "      <th>Research</th>\n",
       "      <th>Chance_of_Admit</th>\n",
       "    </tr>\n",
       "  </thead>\n",
       "  <tbody>\n",
       "    <tr>\n",
       "      <th>0</th>\n",
       "      <td>337</td>\n",
       "      <td>118</td>\n",
       "      <td>4</td>\n",
       "      <td>4.5</td>\n",
       "      <td>4.5</td>\n",
       "      <td>9.65</td>\n",
       "      <td>1</td>\n",
       "      <td>92.0</td>\n",
       "    </tr>\n",
       "    <tr>\n",
       "      <th>1</th>\n",
       "      <td>324</td>\n",
       "      <td>107</td>\n",
       "      <td>4</td>\n",
       "      <td>4.0</td>\n",
       "      <td>4.5</td>\n",
       "      <td>8.87</td>\n",
       "      <td>1</td>\n",
       "      <td>76.0</td>\n",
       "    </tr>\n",
       "    <tr>\n",
       "      <th>2</th>\n",
       "      <td>316</td>\n",
       "      <td>104</td>\n",
       "      <td>3</td>\n",
       "      <td>3.0</td>\n",
       "      <td>3.5</td>\n",
       "      <td>8.00</td>\n",
       "      <td>1</td>\n",
       "      <td>72.0</td>\n",
       "    </tr>\n",
       "    <tr>\n",
       "      <th>3</th>\n",
       "      <td>322</td>\n",
       "      <td>110</td>\n",
       "      <td>3</td>\n",
       "      <td>3.5</td>\n",
       "      <td>2.5</td>\n",
       "      <td>8.67</td>\n",
       "      <td>1</td>\n",
       "      <td>80.0</td>\n",
       "    </tr>\n",
       "    <tr>\n",
       "      <th>4</th>\n",
       "      <td>314</td>\n",
       "      <td>103</td>\n",
       "      <td>2</td>\n",
       "      <td>2.0</td>\n",
       "      <td>3.0</td>\n",
       "      <td>8.21</td>\n",
       "      <td>0</td>\n",
       "      <td>65.0</td>\n",
       "    </tr>\n",
       "  </tbody>\n",
       "</table>\n",
       "</div>"
      ],
      "text/plain": [
       "   GRE_Score  TOEFL_Score  University_Rating  SOP  LOR  CGPA  Research  \\\n",
       "0        337          118                  4  4.5  4.5  9.65         1   \n",
       "1        324          107                  4  4.0  4.5  8.87         1   \n",
       "2        316          104                  3  3.0  3.5  8.00         1   \n",
       "3        322          110                  3  3.5  2.5  8.67         1   \n",
       "4        314          103                  2  2.0  3.0  8.21         0   \n",
       "\n",
       "   Chance_of_Admit  \n",
       "0             92.0  \n",
       "1             76.0  \n",
       "2             72.0  \n",
       "3             80.0  \n",
       "4             65.0  "
      ]
     },
     "execution_count": 57,
     "metadata": {},
     "output_type": "execute_result"
    }
   ],
   "source": [
    "df.head()"
   ]
  },
  {
   "cell_type": "markdown",
   "metadata": {},
   "source": [
    "# Data Visualizations"
   ]
  },
  {
   "cell_type": "markdown",
   "metadata": {},
   "source": [
    "### Explore Chances of admission of students\n"
   ]
  },
  {
   "cell_type": "code",
   "execution_count": 101,
   "metadata": {},
   "outputs": [
    {
     "name": "stderr",
     "output_type": "stream",
     "text": [
      "c:\\users\\hp\\appdata\\local\\programs\\python\\python38\\lib\\site-packages\\seaborn\\distributions.py:2557: FutureWarning: `distplot` is a deprecated function and will be removed in a future version. Please adapt your code to use either `displot` (a figure-level function with similar flexibility) or `histplot` (an axes-level function for histograms).\n",
      "  warnings.warn(msg, FutureWarning)\n"
     ]
    },
    {
     "data": {
      "text/plain": [
       "<AxesSubplot:ylabel='Density'>"
      ]
     },
     "execution_count": 101,
     "metadata": {},
     "output_type": "execute_result"
    },
    {
     "data": {
      "text/plain": [
       "Text(0.5, 1.0, 'Chances of Admissions')"
      ]
     },
     "execution_count": 101,
     "metadata": {},
     "output_type": "execute_result"
    },
    {
     "data": {
      "text/plain": [
       "Text(0, 0.5, 'No. of Students')"
      ]
     },
     "execution_count": 101,
     "metadata": {},
     "output_type": "execute_result"
    },
    {
     "data": {
      "image/png": "[encoded data removed]",
      "text/plain": [
       "<Figure size 720x432 with 1 Axes>"
      ]
     },
     "metadata": {},
     "output_type": "display_data"
    }
   ],
   "source": [
    "fig ,ax = plt.subplots(figsize=(10,6))\n",
    "sns.distplot(x=df['Chance_of_Admit'])\n",
    "plt.title('Chances of Admissions')\n",
    "plt.ylabel('No. of Students')"
   ]
  },
  {
   "cell_type": "code",
   "execution_count": 60,
   "metadata": {},
   "outputs": [
    {
     "data": {
      "text/plain": [
       "<AxesSubplot:>"
      ]
     },
     "execution_count": 60,
     "metadata": {},
     "output_type": "execute_result"
    },
    {
     "data": {
      "image/png": "[encoded data removed]",
      "text/plain": [
       "<Figure size 792x792 with 2 Axes>"
      ]
     },
     "metadata": {
      "needs_background": "light"
     },
     "output_type": "display_data"
    }
   ],
   "source": [
    "#Plotting heatmap\n",
    "fig, ax = plt.subplots(figsize = (11,11))\n",
    "sns.heatmap(df.corr(), annot = True, cmap =\"Blues\")"
   ]
  },
  {
   "cell_type": "markdown",
   "metadata": {},
   "source": [
    "From above plot it is easily observed that the factors affecting Chance_of_Admit are  as follows:\n",
    "- CGPA\n",
    "- GRE_Score\n",
    "- TOEFL_Score\n",
    "- University_Rating"
   ]
  },
  {
   "cell_type": "code",
   "execution_count": 64,
   "metadata": {},
   "outputs": [
    {
     "data": {
      "text/html": [
       "<div>\n",
       "<style scoped>\n",
       "    .dataframe tbody tr th:only-of-type {\n",
       "        vertical-align: middle;\n",
       "    }\n",
       "\n",
       "    .dataframe tbody tr th {\n",
       "        vertical-align: top;\n",
       "    }\n",
       "\n",
       "    .dataframe thead th {\n",
       "        text-align: right;\n",
       "    }\n",
       "</style>\n",
       "<table border=\"1\" class=\"dataframe\">\n",
       "  <thead>\n",
       "    <tr style=\"text-align: right;\">\n",
       "      <th></th>\n",
       "      <th>GRE_Score</th>\n",
       "      <th>TOEFL_Score</th>\n",
       "      <th>University_Rating</th>\n",
       "      <th>SOP</th>\n",
       "      <th>LOR</th>\n",
       "      <th>CGPA</th>\n",
       "      <th>Research</th>\n",
       "      <th>Chance_of_Admit</th>\n",
       "    </tr>\n",
       "  </thead>\n",
       "  <tbody>\n",
       "    <tr>\n",
       "      <th>count</th>\n",
       "      <td>400.000000</td>\n",
       "      <td>400.000000</td>\n",
       "      <td>400.000000</td>\n",
       "      <td>400.000000</td>\n",
       "      <td>400.000000</td>\n",
       "      <td>400.000000</td>\n",
       "      <td>400.000000</td>\n",
       "      <td>400.000000</td>\n",
       "    </tr>\n",
       "    <tr>\n",
       "      <th>mean</th>\n",
       "      <td>316.807500</td>\n",
       "      <td>107.410000</td>\n",
       "      <td>3.087500</td>\n",
       "      <td>3.400000</td>\n",
       "      <td>3.452500</td>\n",
       "      <td>8.598925</td>\n",
       "      <td>0.547500</td>\n",
       "      <td>72.435000</td>\n",
       "    </tr>\n",
       "    <tr>\n",
       "      <th>std</th>\n",
       "      <td>11.473646</td>\n",
       "      <td>6.069514</td>\n",
       "      <td>1.143728</td>\n",
       "      <td>1.006869</td>\n",
       "      <td>0.898478</td>\n",
       "      <td>0.596317</td>\n",
       "      <td>0.498362</td>\n",
       "      <td>14.260933</td>\n",
       "    </tr>\n",
       "  </tbody>\n",
       "</table>\n",
       "</div>"
      ],
      "text/plain": [
       "        GRE_Score  TOEFL_Score  University_Rating         SOP         LOR  \\\n",
       "count  400.000000   400.000000         400.000000  400.000000  400.000000   \n",
       "mean   316.807500   107.410000           3.087500    3.400000    3.452500   \n",
       "std     11.473646     6.069514           1.143728    1.006869    0.898478   \n",
       "\n",
       "             CGPA    Research  Chance_of_Admit  \n",
       "count  400.000000  400.000000       400.000000  \n",
       "mean     8.598925    0.547500        72.435000  \n",
       "std      0.596317    0.498362        14.260933  "
      ]
     },
     "execution_count": 64,
     "metadata": {},
     "output_type": "execute_result"
    }
   ],
   "source": [
    "df.describe().head(3)"
   ]
  },
  {
   "cell_type": "markdown",
   "metadata": {},
   "source": [
    "From the data shown below, it appears that the CGPA submissions are normally distributed with mean of appx. 8.6 and std of 0.6 \n",
    "### CGPA vs Chance_of_Admit"
   ]
  },
  {
   "cell_type": "code",
   "execution_count": 84,
   "metadata": {},
   "outputs": [
    {
     "data": {
      "text/plain": [
       "<Figure size 1440x432 with 0 Axes>"
      ]
     },
     "execution_count": 84,
     "metadata": {},
     "output_type": "execute_result"
    },
    {
     "data": {
      "text/plain": [
       "<AxesSubplot:>"
      ]
     },
     "execution_count": 84,
     "metadata": {},
     "output_type": "execute_result"
    },
    {
     "data": {
      "text/plain": [
       "<AxesSubplot:xlabel='CGPA', ylabel='Count'>"
      ]
     },
     "execution_count": 84,
     "metadata": {},
     "output_type": "execute_result"
    },
    {
     "data": {
      "text/plain": [
       "Text(0.5, 1.0, 'CGPA Distribution of Applicants')"
      ]
     },
     "execution_count": 84,
     "metadata": {},
     "output_type": "execute_result"
    },
    {
     "data": {
      "text/plain": [
       "<AxesSubplot:>"
      ]
     },
     "execution_count": 84,
     "metadata": {},
     "output_type": "execute_result"
    },
    {
     "data": {
      "text/plain": [
       "<AxesSubplot:xlabel='CGPA', ylabel='Chance_of_Admit'>"
      ]
     },
     "execution_count": 84,
     "metadata": {},
     "output_type": "execute_result"
    },
    {
     "data": {
      "text/plain": [
       "Text(0.5, 1.0, 'CGPA Vs Chance of Admit')"
      ]
     },
     "execution_count": 84,
     "metadata": {},
     "output_type": "execute_result"
    },
    {
     "data": {
      "image/png": "[encoded data removed]",
      "text/plain": [
       "<Figure size 1440x432 with 2 Axes>"
      ]
     },
     "metadata": {},
     "output_type": "display_data"
    }
   ],
   "source": [
    "#plotting histogram\n",
    "sns.set_theme(style=\"whitegrid\")\n",
    "plt.figure(figsize = (20,6))\n",
    "plt.subplot(1,3,1) #plt.subplot(nrows,ncols,index)\n",
    "sns.histplot(df['CGPA'])\n",
    "plt.title('CGPA Distribution of Applicants')\n",
    "\n",
    "plt.subplot(1,3,2)\n",
    "sns.regplot(x=df['CGPA'], y=df['Chance_of_Admit'] )\n",
    "plt.title('CGPA Vs Chance of Admit')"
   ]
  },
  {
   "cell_type": "markdown",
   "metadata": {},
   "source": [
    "### GRE_Score Vs Chance_of_Admit"
   ]
  },
  {
   "cell_type": "code",
   "execution_count": 85,
   "metadata": {},
   "outputs": [
    {
     "data": {
      "text/plain": [
       "<Figure size 1440x432 with 0 Axes>"
      ]
     },
     "execution_count": 85,
     "metadata": {},
     "output_type": "execute_result"
    },
    {
     "data": {
      "text/plain": [
       "<AxesSubplot:>"
      ]
     },
     "execution_count": 85,
     "metadata": {},
     "output_type": "execute_result"
    },
    {
     "data": {
      "text/plain": [
       "<AxesSubplot:xlabel='GRE_Score', ylabel='Count'>"
      ]
     },
     "execution_count": 85,
     "metadata": {},
     "output_type": "execute_result"
    },
    {
     "data": {
      "text/plain": [
       "Text(0.5, 1.0, 'GRE_Score Distribution of Applicants')"
      ]
     },
     "execution_count": 85,
     "metadata": {},
     "output_type": "execute_result"
    },
    {
     "data": {
      "text/plain": [
       "<AxesSubplot:>"
      ]
     },
     "execution_count": 85,
     "metadata": {},
     "output_type": "execute_result"
    },
    {
     "data": {
      "text/plain": [
       "<AxesSubplot:xlabel='GRE_Score', ylabel='Chance_of_Admit'>"
      ]
     },
     "execution_count": 85,
     "metadata": {},
     "output_type": "execute_result"
    },
    {
     "data": {
      "text/plain": [
       "Text(0.5, 1.0, 'GRE_Score Vs Chance of Admit')"
      ]
     },
     "execution_count": 85,
     "metadata": {},
     "output_type": "execute_result"
    },
    {
     "data": {
      "image/png": "[encoded data removed]",
      "text/plain": [
       "<Figure size 1440x432 with 2 Axes>"
      ]
     },
     "metadata": {},
     "output_type": "display_data"
    }
   ],
   "source": [
    "sns.set_theme(style=\"whitegrid\")\n",
    "plt.figure(figsize = (20,6))\n",
    "plt.subplot(1,3,1) #plt.subplot(nrows,ncols,index)\n",
    "sns.histplot(df['GRE_Score'])\n",
    "plt.title('GRE_Score Distribution of Applicants')\n",
    "\n",
    "plt.subplot(1,3,2)\n",
    "sns.regplot(x=df['GRE_Score'], y=df['Chance_of_Admit'] )\n",
    "plt.title('GRE_Score Vs Chance of Admit')"
   ]
  },
  {
   "cell_type": "markdown",
   "metadata": {},
   "source": [
    "### TOEFL_Score Vs Chance_of_Admit"
   ]
  },
  {
   "cell_type": "code",
   "execution_count": 86,
   "metadata": {},
   "outputs": [
    {
     "data": {
      "text/plain": [
       "<Figure size 1440x432 with 0 Axes>"
      ]
     },
     "execution_count": 86,
     "metadata": {},
     "output_type": "execute_result"
    },
    {
     "data": {
      "text/plain": [
       "<AxesSubplot:>"
      ]
     },
     "execution_count": 86,
     "metadata": {},
     "output_type": "execute_result"
    },
    {
     "data": {
      "text/plain": [
       "<AxesSubplot:xlabel='TOEFL_Score', ylabel='Count'>"
      ]
     },
     "execution_count": 86,
     "metadata": {},
     "output_type": "execute_result"
    },
    {
     "data": {
      "text/plain": [
       "Text(0.5, 1.0, 'TOEFL_Score Distribution of Applicants')"
      ]
     },
     "execution_count": 86,
     "metadata": {},
     "output_type": "execute_result"
    },
    {
     "data": {
      "text/plain": [
       "<AxesSubplot:>"
      ]
     },
     "execution_count": 86,
     "metadata": {},
     "output_type": "execute_result"
    },
    {
     "data": {
      "text/plain": [
       "<AxesSubplot:xlabel='TOEFL_Score', ylabel='Chance_of_Admit'>"
      ]
     },
     "execution_count": 86,
     "metadata": {},
     "output_type": "execute_result"
    },
    {
     "data": {
      "text/plain": [
       "Text(0.5, 1.0, 'TOEFL_Score Vs Chance of Admit')"
      ]
     },
     "execution_count": 86,
     "metadata": {},
     "output_type": "execute_result"
    },
    {
     "data": {
      "image/png": "[encoded data removed]",
      "text/plain": [
       "<Figure size 1440x432 with 2 Axes>"
      ]
     },
     "metadata": {},
     "output_type": "display_data"
    }
   ],
   "source": [
    "sns.set_theme(style=\"whitegrid\")\n",
    "plt.figure(figsize = (20,6))\n",
    "plt.subplot(1,3,1) #plt.subplot(nrows,ncols,index)\n",
    "sns.histplot(df['TOEFL_Score'])\n",
    "plt.title('TOEFL_Score Distribution of Applicants')\n",
    "\n",
    "plt.subplot(1,3,2)\n",
    "sns.regplot(x=df['TOEFL_Score'], y=df['Chance_of_Admit'] )\n",
    "plt.title('TOEFL_Score Vs Chance of Admit')"
   ]
  },
  {
   "cell_type": "markdown",
   "metadata": {},
   "source": [
    "### University Rating Vs Chance of Admit"
   ]
  },
  {
   "cell_type": "code",
   "execution_count": 102,
   "metadata": {},
   "outputs": [
    {
     "data": {
      "text/plain": [
       "<Figure size 1440x432 with 0 Axes>"
      ]
     },
     "execution_count": 102,
     "metadata": {},
     "output_type": "execute_result"
    },
    {
     "data": {
      "text/plain": [
       "<AxesSubplot:>"
      ]
     },
     "execution_count": 102,
     "metadata": {},
     "output_type": "execute_result"
    },
    {
     "data": {
      "text/plain": [
       "<AxesSubplot:xlabel='University_Rating', ylabel='Count'>"
      ]
     },
     "execution_count": 102,
     "metadata": {},
     "output_type": "execute_result"
    },
    {
     "data": {
      "text/plain": [
       "Text(0.5, 1.0, 'University Rating Distribution')"
      ]
     },
     "execution_count": 102,
     "metadata": {},
     "output_type": "execute_result"
    },
    {
     "data": {
      "text/plain": [
       "<AxesSubplot:>"
      ]
     },
     "execution_count": 102,
     "metadata": {},
     "output_type": "execute_result"
    },
    {
     "data": {
      "text/plain": [
       "<AxesSubplot:xlabel='University_Rating', ylabel='Chance_of_Admit'>"
      ]
     },
     "execution_count": 102,
     "metadata": {},
     "output_type": "execute_result"
    },
    {
     "data": {
      "text/plain": [
       "Text(0.5, 1.0, 'University Rating Vs Chance of Admit')"
      ]
     },
     "execution_count": 102,
     "metadata": {},
     "output_type": "execute_result"
    },
    {
     "data": {
      "text/plain": [
       "<AxesSubplot:>"
      ]
     },
     "execution_count": 102,
     "metadata": {},
     "output_type": "execute_result"
    },
    {
     "data": {
      "text/plain": [
       "<AxesSubplot:xlabel='University_Rating', ylabel='count'>"
      ]
     },
     "execution_count": 102,
     "metadata": {},
     "output_type": "execute_result"
    },
    {
     "data": {
      "text/plain": [
       "Text(0.5, 1.0, 'University Rating')"
      ]
     },
     "execution_count": 102,
     "metadata": {},
     "output_type": "execute_result"
    },
    {
     "data": {
      "text/plain": [
       "Text(0, 0.5, 'No. of Students')"
      ]
     },
     "execution_count": 102,
     "metadata": {},
     "output_type": "execute_result"
    },
    {
     "data": {
      "image/png": "[encoded data removed]",
      "text/plain": [
       "<Figure size 1440x432 with 3 Axes>"
      ]
     },
     "metadata": {},
     "output_type": "display_data"
    }
   ],
   "source": [
    "sns.set_theme(style=\"whitegrid\")\n",
    "plt.figure(figsize = (20,6))\n",
    "plt.subplot(1,3,1) #plt.subplot(nrows,ncols,index)\n",
    "sns.histplot(df['University_Rating'])\n",
    "plt.title('University Rating Distribution')\n",
    "\n",
    "plt.subplot(1,3,2)\n",
    "sns.regplot(x=df['University_Rating'], y=df['Chance_of_Admit'] )\n",
    "plt.title('University Rating Vs Chance of Admit')\n",
    "\n",
    "plt.subplot(1,3,3)\n",
    "sns.countplot(x=df['University_Rating'])\n",
    "plt.title('University Rating')\n",
    "plt.ylabel('No. of Students')"
   ]
  },
  {
   "cell_type": "markdown",
   "metadata": {},
   "source": [
    " ### Research\n",
    "  Explore how many students have research experience, although it is less important feature it's not going to affect the target column"
   ]
  },
  {
   "cell_type": "code",
   "execution_count": 90,
   "metadata": {},
   "outputs": [
    {
     "data": {
      "text/plain": [
       "<AxesSubplot:xlabel='Research', ylabel='count'>"
      ]
     },
     "execution_count": 90,
     "metadata": {},
     "output_type": "execute_result"
    },
    {
     "data": {
      "text/plain": [
       "Text(0.5, 1.0, 'Research Experience')"
      ]
     },
     "execution_count": 90,
     "metadata": {},
     "output_type": "execute_result"
    },
    {
     "data": {
      "text/plain": [
       "Text(0, 0.5, 'No. of Students')"
      ]
     },
     "execution_count": 90,
     "metadata": {},
     "output_type": "execute_result"
    },
    {
     "data": {
      "text/plain": [
       "[Text(0, 0, 'No Research Experience'), Text(1, 0, 'Has Research Experience')]"
      ]
     },
     "execution_count": 90,
     "metadata": {},
     "output_type": "execute_result"
    },
    {
     "data": {
      "image/png": "[encoded data removed]",
      "text/plain": [
       "<Figure size 576x432 with 1 Axes>"
      ]
     },
     "metadata": {},
     "output_type": "display_data"
    }
   ],
   "source": [
    "fig ,ax = plt.subplots(figsize=(8,6))\n",
    "sns.countplot(x=df['Research'])\n",
    "plt.title('Research Experience')\n",
    "plt.ylabel('No. of Students')\n",
    "ax.set_xticklabels(['No Research Experience', 'Has Research Experience'])"
   ]
  },
  {
   "cell_type": "markdown",
   "metadata": {},
   "source": [
    "Most of the applicants have research experience "
   ]
  },
  {
   "cell_type": "markdown",
   "metadata": {},
   "source": [
    "### Preparing Data For Machine Learning\n",
    "After understanding dataset completely, it's time to implement machine learning algorithms to predict future applicant's chances of admission. \n",
    "First we have to split data into traning set and testing set of data."
   ]
  },
  {
   "cell_type": "code",
   "execution_count": 103,
   "metadata": {},
   "outputs": [],
   "source": [
    "target = df['Chance_of_Admit']\n",
    "predictors = df.drop(columns = {'Chance_of_Admit'})\n",
    "\n",
    "X_train, X_test, y_train, y_test = train_test_split(predictors, target, test_size = 0.2, random_state = 42) #test_size will get 20% of data for testing\n"
   ]
  },
  {
   "cell_type": "code",
   "execution_count": 150,
   "metadata": {},
   "outputs": [],
   "source": [
    "scaler = StandardScaler()\n",
    "X_train = scaler.fit_transform(X_train)\n",
    "X_test = scaler.fit_transform(X_test)"
   ]
  },
  {
   "cell_type": "code",
   "execution_count": 151,
   "metadata": {},
   "outputs": [
    {
     "data": {
      "text/plain": [
       "[array([-1.28554291, -0.52594327, -0.15532561, -0.0200129 ,  0.59681941,\n",
       "        -0.83818372,  0.83793058]),\n",
       " array([-0.46410974, -0.84713   , -0.15532561,  1.04734184,  0.59681941,\n",
       "        -0.00540505,  0.83793058]),\n",
       " array([1.91804645, 1.07999038, 1.61982426, 0.51366447, 0.59681941,\n",
       "        1.53203248, 0.83793058]),\n",
       " array([0.6858967 , 0.11643019, 0.73224932, 1.04734184, 0.59681941,\n",
       "        0.66722387, 0.83793058]),\n",
       " array([-1.28554291, -1.65009682, -1.04290055, -0.55369027, -0.51354229,\n",
       "        -1.2225431 ,  0.83793058]),\n",
       " array([1.91804645, 1.24058374, 1.61982426, 1.04734184, 1.15200026,\n",
       "        1.29180786, 0.83793058]),\n",
       " array([-1.61411618, -1.81069018, -1.04290055, -1.08736764, -2.17908483,\n",
       "        -1.20652812, -1.19341628]),\n",
       " array([-1.12125627, -1.32891009, -0.15532561, -1.62104501, -1.06872313,\n",
       "        -1.57487253, -1.19341628]),\n",
       " array([-0.38196642, -0.3653499 , -1.04290055, -1.62104501, -1.06872313,\n",
       "        -0.30968957, -1.19341628]),\n",
       " array([ 0.52161006,  0.91939701, -0.15532561,  0.51366447, -0.51354229,\n",
       "         1.0836132 ,  0.83793058]),\n",
       " array([ 0.52161006,  0.11643019, -0.15532561, -0.0200129 , -0.51354229,\n",
       "        -0.06946495, -1.19341628]),\n",
       " array([1.42518655, 1.40117711, 0.73224932, 0.51366447, 0.04163856,\n",
       "        1.43594263, 0.83793058]),\n",
       " array([-0.05339316, -0.84713   , -0.15532561, -1.62104501, -0.51354229,\n",
       "        -1.99126186, -1.19341628]),\n",
       " array([0.35732343, 0.59821028, 1.61982426, 1.58101921, 1.70718111,\n",
       "        1.29180786, 0.83793058]),\n",
       " array([-0.62839637, -0.3653499 ,  1.61982426, -0.0200129 ,  0.04163856,\n",
       "        -0.13352485, -1.19341628]),\n",
       " array([-0.29982311, -0.04416318, -1.04290055, -1.08736764, -1.62390398,\n",
       "        -0.22961469,  0.83793058]),\n",
       " array([-0.71053969, -0.68653663, -1.04290055, -0.55369027,  0.04163856,\n",
       "        -0.24562967, -1.19341628]),\n",
       " array([-1.61411618, -1.81069018, -1.04290055, -1.08736764, -1.62390398,\n",
       "        -1.94321694, -1.19341628]),\n",
       " array([ 0.19303679, -0.20475654, -0.15532561, -0.0200129 , -1.06872313,\n",
       "        -0.50186926,  0.83793058]),\n",
       " array([1.50732986, 1.56177047, 1.61982426, 1.58101921, 1.70718111,\n",
       "        1.88436191, 0.83793058]),\n",
       " array([-1.28554291, -1.32891009, -1.04290055, -0.55369027, -1.62390398,\n",
       "        -0.67803397, -1.19341628]),\n",
       " array([-0.21767979, -0.3653499 , -0.15532561, -0.0200129 , -1.06872313,\n",
       "        -0.54991418, -1.19341628]),\n",
       " array([ 0.11089348, -0.20475654, -0.15532561, -1.62104501, -0.51354229,\n",
       "         0.01060992, -1.19341628]),\n",
       " array([-1.44982954, -1.81069018, -1.04290055, -2.15472238, -1.62390398,\n",
       "        -1.25457305, -1.19341628]),\n",
       " array([1.6716165 , 1.72236383, 0.73224932, 1.04734184, 1.15200026,\n",
       "        1.61210735, 0.83793058]),\n",
       " array([ 0.6858967 , -0.04416318, -0.15532561, -0.55369027,  0.04163856,\n",
       "         0.74729874,  0.83793058]),\n",
       " array([-0.46410974, -0.3653499 , -0.15532561, -0.0200129 , -0.51354229,\n",
       "        -0.30968957,  0.83793058]),\n",
       " array([-1.69625949, -1.32891009, -1.04290055, -1.08736764, -1.06872313,\n",
       "        -0.98231848, -1.19341628]),\n",
       " array([-0.71053969, -0.68653663, -1.04290055, -1.08736764,  0.59681941,\n",
       "        -0.45382433,  0.83793058]),\n",
       " array([ 0.76804001,  0.75880365, -0.15532561, -0.0200129 , -0.51354229,\n",
       "         0.65120889,  0.83793058]),\n",
       " array([ 0.60375338,  0.43761692, -0.15532561, -0.0200129 ,  0.04163856,\n",
       "         0.63519392,  0.83793058]),\n",
       " array([1.58947318, 1.72236383, 1.61982426, 1.04734184, 1.70718111,\n",
       "        1.41992766, 0.83793058]),\n",
       " array([-0.38196642, -0.52594327, -0.15532561, -0.0200129 ,  0.59681941,\n",
       "        -0.88622864, -1.19341628]),\n",
       " array([-1.53197286, -1.32891009, -1.04290055,  0.51366447, -1.62390398,\n",
       "        -1.67096238, -1.19341628]),\n",
       " array([-0.38196642, -0.04416318, -1.04290055, -1.08736764,  0.04163856,\n",
       "        -0.5979591 , -1.19341628]),\n",
       " array([-1.44982954, -0.84713   , -0.15532561,  0.51366447,  0.04163856,\n",
       "        -0.037435  , -1.19341628]),\n",
       " array([ 0.27518011,  0.43761692, -1.04290055,  0.51366447,  0.04163856,\n",
       "        -0.13352485, -1.19341628]),\n",
       " array([-0.71053969, -0.20475654, -0.15532561, -0.55369027, -0.51354229,\n",
       "        -0.64600402, -1.19341628]),\n",
       " array([-0.87482632, -0.20475654, -1.04290055, -1.62104501, -1.06872313,\n",
       "        -0.80615377, -1.19341628]),\n",
       " array([ 1.26089991,  1.72236383, -1.04290055,  1.04734184,  0.04163856,\n",
       "         1.14767309,  0.83793058]),\n",
       " array([ 0.19303679, -0.3653499 , -0.15532561, -0.55369027,  0.04163856,\n",
       "         0.04263987,  0.83793058]),\n",
       " array([ 0.27518011, -0.68653663, -0.15532561, -0.55369027, -0.51354229,\n",
       "        -1.51081264, -1.19341628]),\n",
       " array([ 0.85018333,  0.75880365, -0.15532561, -0.55369027, -0.51354229,\n",
       "         0.12271474,  0.83793058]),\n",
       " array([1.91804645, 2.04355056, 1.61982426, 1.04734184, 1.15200026,\n",
       "        1.53203248, 0.83793058]),\n",
       " array([0.27518011, 0.43761692, 1.61982426, 1.58101921, 1.15200026,\n",
       "        0.92346345, 0.83793058]),\n",
       " array([0.60375338, 0.43761692, 0.73224932, 1.04734184, 0.59681941,\n",
       "        0.81135863, 0.83793058]),\n",
       " array([1.83590313, 1.40117711, 0.73224932, 0.51366447, 0.04163856,\n",
       "        1.85233196, 0.83793058]),\n",
       " array([-0.95696964, -0.04416318, -1.04290055, -1.08736764, -1.06872313,\n",
       "        -0.35773449, -1.19341628]),\n",
       " array([0.93232665, 1.40117711, 1.61982426, 1.58101921, 1.70718111,\n",
       "        1.37188273, 0.83793058]),\n",
       " array([0.52161006, 0.91939701, 0.73224932, 0.51366447, 1.15200026,\n",
       "        0.93947843, 0.83793058]),\n",
       " array([1.01446996, 1.07999038, 1.61982426, 0.51366447, 1.70718111,\n",
       "        1.05158325, 0.83793058]),\n",
       " array([ 0.52161006, -0.52594327, -0.15532561,  0.51366447,  0.59681941,\n",
       "        -0.32570454,  0.83793058]),\n",
       " array([0.52161006, 0.11643019, 1.61982426, 0.51366447, 0.59681941,\n",
       "        0.15474469, 0.83793058]),\n",
       " array([1.26089991, 1.72236383, 1.61982426, 1.58101921, 1.70718111,\n",
       "        1.59609237, 0.83793058]),\n",
       " array([-0.13553647, -0.3653499 , -1.04290055, -1.62104501, -1.06872313,\n",
       "        -1.59088751, -1.19341628]),\n",
       " array([-0.79268301,  0.11643019, -1.04290055,  0.51366447,  0.04163856,\n",
       "        -1.51081264, -1.19341628]),\n",
       " array([-0.71053969,  0.27702355, -1.04290055, -0.55369027,  0.59681941,\n",
       "        -0.30968957, -1.19341628]),\n",
       " array([0.43946675, 0.43761692, 0.73224932, 0.51366447, 1.70718111,\n",
       "        0.77932869, 0.83793058]),\n",
       " array([-1.36768623, -1.65009682, -1.04290055, -0.55369027, -0.51354229,\n",
       "        -0.87021366,  0.83793058]),\n",
       " array([0.35732343, 0.75880365, 1.61982426, 1.58101921, 1.70718111,\n",
       "        0.66722387, 0.83793058]),\n",
       " array([-1.28554291, -0.20475654,  0.73224932, -1.08736764, -0.51354229,\n",
       "        -0.27765962, -1.19341628]),\n",
       " array([-0.05339316, -1.00772336, -1.04290055, -1.08736764, -1.62390398,\n",
       "        -0.51788423,  0.83793058]),\n",
       " array([-0.79268301,  0.43761692,  0.73224932,  0.51366447,  1.15200026,\n",
       "        -0.43780936, -1.19341628]),\n",
       " array([-1.69625949, -1.97128355, -1.04290055, -0.55369027, -1.62390398,\n",
       "        -1.76705222,  0.83793058]),\n",
       " array([-0.38196642, -0.3653499 , -1.04290055, -1.08736764, -0.51354229,\n",
       "        -0.83818372, -1.19341628]),\n",
       " array([ 0.85018333, -0.68653663, -0.15532561,  0.51366447,  0.59681941,\n",
       "        -0.54991418,  0.83793058]),\n",
       " array([-1.12125627, -1.16831673, -1.04290055, -0.55369027,  0.04163856,\n",
       "        -0.93427356,  0.83793058]),\n",
       " array([ 0.85018333,  0.91939701,  0.73224932,  1.04734184,  1.70718111,\n",
       "         0.79534366, -1.19341628]),\n",
       " array([1.01446996, 0.59821028, 0.73224932, 1.04734184, 0.59681941,\n",
       "        0.93947843, 0.83793058]),\n",
       " array([-0.21767979,  0.11643019,  0.73224932,  1.04734184,  0.59681941,\n",
       "         0.63519392,  0.83793058]),\n",
       " array([ 0.02875016, -0.20475654, -0.15532561,  0.51366447,  0.04163856,\n",
       "        -0.22961469,  0.83793058]),\n",
       " array([ 1.01446996,  0.43761692, -1.04290055,  0.51366447, -0.51354229,\n",
       "         0.81135863,  0.83793058]),\n",
       " array([ 1.09661328,  1.24058374,  1.61982426,  1.04734184, -0.51354229,\n",
       "         1.11564315,  0.83793058]),\n",
       " array([0.43946675, 0.43761692, 1.61982426, 1.58101921, 0.59681941,\n",
       "        0.73128376, 0.83793058]),\n",
       " array([-1.69625949, -1.65009682, -1.04290055, -2.15472238, -1.62390398,\n",
       "        -1.35066289, -1.19341628]),\n",
       " array([-0.05339316, -0.3653499 , -0.15532561, -0.55369027,  0.04163856,\n",
       "         0.13872971, -1.19341628]),\n",
       " array([-0.38196642,  0.43761692, -1.04290055, -0.0200129 , -0.51354229,\n",
       "        -0.18156977, -1.19341628]),\n",
       " array([-1.28554291, -1.48950346, -1.93047549, -1.62104501, -0.51354229,\n",
       "        -0.98231848,  0.83793058]),\n",
       " array([1.01446996, 1.8829572 , 0.73224932, 1.04734184, 1.15200026,\n",
       "        0.82737361, 0.83793058]),\n",
       " array([-0.29982311,  0.27702355, -0.15532561,  0.51366447,  0.04163856,\n",
       "         0.57113402, -1.19341628])]"
      ]
     },
     "execution_count": 151,
     "metadata": {},
     "output_type": "execute_result"
    }
   ],
   "source": [
    "list(X_test)"
   ]
  },
  {
   "cell_type": "code",
   "execution_count": 127,
   "metadata": {},
   "outputs": [
    {
     "data": {
      "text/plain": [
       "209    68.0\n",
       "280    68.0\n",
       "33     90.0\n",
       "210    79.0\n",
       "93     44.0\n",
       "       ... \n",
       "246    72.0\n",
       "227    64.0\n",
       "369    67.0\n",
       "176    90.0\n",
       "289    79.0\n",
       "Name: Chance_of_Admit, Length: 80, dtype: float64"
      ]
     },
     "execution_count": 127,
     "metadata": {},
     "output_type": "execute_result"
    }
   ],
   "source": [
    "y_test"
   ]
  },
  {
   "cell_type": "markdown",
   "metadata": {},
   "source": [
    "### Linear Regression"
   ]
  },
  {
   "cell_type": "code",
   "execution_count": 137,
   "metadata": {},
   "outputs": [
    {
     "data": {
      "text/plain": [
       "LinearRegression()"
      ]
     },
     "execution_count": 137,
     "metadata": {},
     "output_type": "execute_result"
    },
    {
     "data": {
      "text/plain": [
       "81.7386788111443"
      ]
     },
     "execution_count": 137,
     "metadata": {},
     "output_type": "execute_result"
    },
    {
     "data": {
      "text/plain": [
       "5.013672161921004"
      ]
     },
     "execution_count": 137,
     "metadata": {},
     "output_type": "execute_result"
    }
   ],
   "source": [
    "linreg = LinearRegression()\n",
    "linreg.fit(X_train, y_train)\n",
    "y_predict = linreg.predict(X_test)  #prediction\n",
    "linreg_score = (linreg.score(X_test, y_test))*100   \n",
    "linreg_score  #Prediction Accuracy \n",
    "metrics.mean_absolute_error(y_test, y_predict) #Mean_absolute_error"
   ]
  },
  {
   "cell_type": "markdown",
   "metadata": {},
   "source": [
    "### Decision Trees"
   ]
  },
  {
   "cell_type": "code",
   "execution_count": 136,
   "metadata": {},
   "outputs": [
    {
     "data": {
      "text/plain": [
       "DecisionTreeRegressor(max_depth=6, random_state=0)"
      ]
     },
     "execution_count": 136,
     "metadata": {},
     "output_type": "execute_result"
    },
    {
     "data": {
      "text/plain": [
       "73.99851580517213"
      ]
     },
     "execution_count": 136,
     "metadata": {},
     "output_type": "execute_result"
    },
    {
     "data": {
      "text/plain": [
       "5.472035170141725"
      ]
     },
     "execution_count": 136,
     "metadata": {},
     "output_type": "execute_result"
    }
   ],
   "source": [
    "dec_tree = DecisionTreeRegressor(random_state = 0, max_depth = 6)\n",
    "dec_tree.fit(X_train, y_train)\n",
    "y_predict = dec_tree.predict(X_test)\n",
    "dec_tree_score = (dec_tree.score(X_test, y_test))*100\n",
    "dec_tree_score  #Prediction Accuracy \n",
    "metrics.mean_absolute_error(y_test, y_predict)   #Mean_absolute_error"
   ]
  },
  {
   "cell_type": "markdown",
   "metadata": {},
   "source": [
    "### Random Forests"
   ]
  },
  {
   "cell_type": "code",
   "execution_count": 135,
   "metadata": {},
   "outputs": [
    {
     "data": {
      "text/plain": [
       "RandomForestRegressor(max_depth=6, n_estimators=110, random_state=0)"
      ]
     },
     "execution_count": 135,
     "metadata": {},
     "output_type": "execute_result"
    },
    {
     "data": {
      "text/plain": [
       "81.33721251913583"
      ]
     },
     "execution_count": 135,
     "metadata": {},
     "output_type": "execute_result"
    },
    {
     "data": {
      "text/plain": [
       "4.967982168661233"
      ]
     },
     "execution_count": 135,
     "metadata": {},
     "output_type": "execute_result"
    }
   ],
   "source": [
    "forest = RandomForestRegressor(n_estimators = 110, max_depth = 6, random_state = 0)\n",
    "forest.fit(X_train, y_train)\n",
    "y_predict = forest.predict(X_test)\n",
    "forest_score = (forest.score(X_test, y_test))*100\n",
    "forest_score  #Prediction Accuracy \n",
    "metrics.mean_absolute_error(y_test, y_predict)  #Mean_absolute_error"
   ]
  },
  {
   "cell_type": "markdown",
   "metadata": {},
   "source": [
    "### Comparing Scores"
   ]
  },
  {
   "cell_type": "code",
   "execution_count": 154,
   "metadata": {
    "scrolled": true
   },
   "outputs": [
    {
     "data": {
      "text/plain": [
       "<AxesSubplot:>"
      ]
     },
     "execution_count": 154,
     "metadata": {},
     "output_type": "execute_result"
    },
    {
     "data": {
      "text/plain": [
       "Text(0.5, 1.0, 'Algorithm Prediction Accuracies')"
      ]
     },
     "execution_count": 154,
     "metadata": {},
     "output_type": "execute_result"
    },
    {
     "data": {
      "text/plain": [
       "Text(0, 0.5, 'Accuracy')"
      ]
     },
     "execution_count": 154,
     "metadata": {},
     "output_type": "execute_result"
    },
    {
     "data": {
      "image/png": "[encoded data removed]",
      "text/plain": [
       "<Figure size 576x432 with 1 Axes>"
      ]
     },
     "metadata": {},
     "output_type": "display_data"
    }
   ],
   "source": [
    "Methods = ['Linear Regression', 'Decision Trees', 'Random Forests']\n",
    "Scores = np.array([linreg_score, dec_tree_score, forest_score])\n",
    "\n",
    "fig,ax = plt.subplots(figsize=(8,6))\n",
    "sns.barplot(x=Methods,y=Scores)\n",
    "plt.title('Algorithm Prediction Accuracies')\n",
    "plt.ylabel('Accuracy')"
   ]
  },
  {
   "cell_type": "markdown",
   "metadata": {},
   "source": [
    " From above graph it is depicted that **Linear Regression** is best algorithm with **81.73%** for predicting future candidates admission possibility\n",
    " "
   ]
  },
  {
   "cell_type": "code",
   "execution_count": null,
   "metadata": {},
   "outputs": [],
   "source": []
  }
 ],
 "metadata": {
  "kernelspec": {
   "display_name": "Python 3",
   "language": "python",
   "name": "python3"
  },
  "language_info": {
   "codemirror_mode": {
    "name": "ipython",
    "version": 3
   },
   "file_extension": ".py",
   "mimetype": "text/x-python",
   "name": "python",
   "nbconvert_exporter": "python",
   "pygments_lexer": "ipython3",
   "version": "3.8.0"
  }
 },
 "nbformat": 4,
 "nbformat_minor": 4
}
